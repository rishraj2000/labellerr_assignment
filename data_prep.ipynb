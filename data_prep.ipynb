{
  "nbformat": 4,
  "nbformat_minor": 0,
  "metadata": {
    "kernelspec": {
      "display_name": "Python 3",
      "language": "python",
      "name": "python3"
    },
    "language_info": {
      "codemirror_mode": {
        "name": "ipython",
        "version": 3
      },
      "file_extension": ".py",
      "mimetype": "text/x-python",
      "name": "python",
      "nbconvert_exporter": "python",
      "pygments_lexer": "ipython3",
      "version": "3.7.1"
    },
    "toc": {
      "base_numbering": 1,
      "nav_menu": {},
      "number_sections": true,
      "sideBar": true,
      "skip_h1_title": false,
      "title_cell": "Table of Contents",
      "title_sidebar": "Contents",
      "toc_cell": false,
      "toc_position": {},
      "toc_section_display": true,
      "toc_window_display": false
    },
    "colab": {
      "name": "data_prep.ipynb",
      "provenance": []
    }
  },
  "cells": [
    {
      "cell_type": "code",
      "metadata": {
        "ExecuteTime": {
          "end_time": "2019-01-24T21:16:15.337275Z",
          "start_time": "2019-01-24T21:16:12.646114Z"
        },
        "hidden": true,
        "id": "pYFiM3y0j3TQ"
      },
      "source": [
        "%reload_ext autoreload\n",
        "%autoreload 2\n",
        "%matplotlib inline"
      ],
      "execution_count": null,
      "outputs": []
    },
    {
      "cell_type": "code",
      "metadata": {
        "ExecuteTime": {
          "end_time": "2019-01-24T21:16:18.042812Z",
          "start_time": "2019-01-24T21:16:15.342223Z"
        },
        "hidden": true,
        "id": "3yGNKjyCj3TQ",
        "outputId": "2c99b646-db0e-4182-b6e1-bb6662229750",
        "colab": {
          "referenced_widgets": [
            "4a6aa9db9d65408cb9dd5d814062c1eb"
          ]
        }
      },
      "source": [
        "import pandas as pd\n",
        "import numpy as np\n",
        "import imutils\n",
        "import glob\n",
        "import cv2\n",
        "import shutil\n",
        "from tqdm import tqdm_notebook\n",
        "import matplotlib.pyplot as plt\n",
        "pd.set_option('display.max_columns', 500)\n",
        "tqdm_notebook().pandas()"
      ],
      "execution_count": null,
      "outputs": [
        {
          "output_type": "display_data",
          "data": {
            "application/vnd.jupyter.widget-view+json": {
              "model_id": "4a6aa9db9d65408cb9dd5d814062c1eb",
              "version_major": 2,
              "version_minor": 0
            },
            "text/plain": [
              "HBox(children=(IntProgress(value=1, bar_style='info', max=1), HTML(value='')))"
            ]
          },
          "metadata": {
            "tags": []
          }
        },
        {
          "output_type": "stream",
          "text": [
            "\n"
          ],
          "name": "stdout"
        }
      ]
    },
    {
      "cell_type": "markdown",
      "metadata": {
        "heading_collapsed": true,
        "id": "MgR4NA1Lj3TS"
      },
      "source": [
        "## Downloading databse"
      ]
    },
    {
      "cell_type": "code",
      "metadata": {
        "ExecuteTime": {
          "end_time": "2019-01-24T05:04:05.729302Z",
          "start_time": "2019-01-24T05:04:05.700665Z"
        },
        "hidden": true,
        "id": "tt2n7weVj3TT"
      },
      "source": [
        "## !kaggle datasets download -d jessicali9530/celeba-datasetb"
      ],
      "execution_count": null,
      "outputs": []
    },
    {
      "cell_type": "markdown",
      "metadata": {
        "id": "vXbuI9j_j3TT"
      },
      "source": [
        "## Extracting frontal face from images"
      ]
    },
    {
      "cell_type": "code",
      "metadata": {
        "ExecuteTime": {
          "end_time": "2019-01-24T21:16:18.291354Z",
          "start_time": "2019-01-24T21:16:18.072519Z"
        },
        "id": "EtiAD2fdj3TU"
      },
      "source": [
        "## Loading Haar Cascade\n",
        "## Taken from https://github.com/opencv/opencv/tree/master/data/haarcascades\n",
        "face_cascade = cv2.CascadeClassifier('haarcascade_frontalface_default.xml')"
      ],
      "execution_count": null,
      "outputs": []
    },
    {
      "cell_type": "code",
      "metadata": {
        "ExecuteTime": {
          "end_time": "2019-01-24T21:16:19.110303Z",
          "start_time": "2019-01-24T21:16:19.067567Z"
        },
        "id": "3eM6-4Dej3TU"
      },
      "source": [
        "def face_extractor(origin, destination, fc):\n",
        "    ## Importing image using open cv\n",
        "    img = cv2.imread(origin,1)\n",
        "\n",
        "    ## Resizing to constant width\n",
        "    img = imutils.resize(img, width=200)\n",
        "    \n",
        "    ## Finding actual size of image\n",
        "    H,W,_ = img.shape\n",
        "    \n",
        "    ## Converting BGR to RGB\n",
        "    gray = cv2.cvtColor(img, cv2.COLOR_BGR2GRAY)\n",
        "    \n",
        "    ## Detecting faces on the image\n",
        "    face_coord = fc.detectMultiScale(gray,1.2,10,minSize=(50,50))\n",
        "    \n",
        "    ## If only one face is foung\n",
        "    if len(face_coord) == 1:\n",
        "        X, Y, w, h = face_coord[0]\n",
        "    \n",
        "    ## If no face found --> SKIP\n",
        "    elif len(face_coord)==0:\n",
        "        return None\n",
        "    \n",
        "    ## If multiple faces are found take the one with largest area\n",
        "    else:\n",
        "        max_val = 0\n",
        "        max_idx = 0\n",
        "        for idx in range(len(face_coord)):\n",
        "            _, _, w_i, h_i = face_coord[idx]\n",
        "            if w_i*h_i > max_val:\n",
        "                max_idx = idx\n",
        "                max_val = w_i*h_i\n",
        "            else:\n",
        "                pass\n",
        "            \n",
        "            X, Y, w, h = face_coord[max_idx]\n",
        "    \n",
        "    ## Crop and export the image\n",
        "    img_cp = img[\n",
        "            max(0,Y - int(0.35*h)): min(Y + int(1.35*h), H),\n",
        "            max(0,X - int(w*0.35)): min(X + int(1.35*w), W)\n",
        "        ].copy()\n",
        "    \n",
        "    cv2.imwrite(destination, img_cp)"
      ],
      "execution_count": null,
      "outputs": []
    },
    {
      "cell_type": "code",
      "metadata": {
        "ExecuteTime": {
          "end_time": "2019-01-24T21:16:26.977196Z",
          "start_time": "2019-01-24T21:16:23.864329Z"
        },
        "id": "QyFdXR1Bj3TV",
        "outputId": "422ee255-552b-4068-bd7b-f73ab1337f27"
      },
      "source": [
        "## Defining destination path\n",
        "path = '../data/celeba/faces/'\n",
        "\n",
        "## Finding all the images in the folder\n",
        "item_list = glob.glob('../data/celeba/imgs/*.jpg')\n",
        "print(len(item_list))"
      ],
      "execution_count": null,
      "outputs": [
        {
          "output_type": "stream",
          "text": [
            "202599\n"
          ],
          "name": "stdout"
        }
      ]
    },
    {
      "cell_type": "code",
      "metadata": {
        "ExecuteTime": {
          "end_time": "2019-01-24T05:10:20.445764Z",
          "start_time": "2019-01-24T05:09:00.264576Z"
        },
        "id": "VhYTe3T6j3TW"
      },
      "source": [
        "## Will run for about an hour and a half \n",
        "for org in tqdm_notebook(item_list):\n",
        "    face_extractor(origin = org, destination = path+org.split('/')[-1], fc=face_cascade)"
      ],
      "execution_count": null,
      "outputs": []
    },
    {
      "cell_type": "code",
      "metadata": {
        "id": "BJJRDp5Fj3TW"
      },
      "source": [
        "## Findign all the images and separating in training and validation\n",
        "item_list = glob.glob(path+'*.jpg')\n",
        "\n",
        "for idx in tqdm_notebook(range(1,202600)):\n",
        "    if idx <= 182637:\n",
        "        destination = path+'training/'\n",
        "    else:\n",
        "        destination = path+'validation/'\n",
        "    try:\n",
        "        shutil.move(\n",
        "            path+str(idx).zfill(6)+'.jpg', \n",
        "            destination+str(idx).zfill(6)+'.jpg'\n",
        "        )\n",
        "    except:\n",
        "        pass"
      ],
      "execution_count": null,
      "outputs": []
    },
    {
      "cell_type": "markdown",
      "metadata": {
        "id": "0VGmiTIKj3TW"
      },
      "source": [
        "## Label Creation"
      ]
    },
    {
      "cell_type": "code",
      "metadata": {
        "id": "69w8upowj3TX"
      },
      "source": [
        "## Combining all label attributes\n",
        "label_df = pd.read_csv('../data/celeba/list_attr_celeba.csv')\n",
        "column_list = pd.Series(list(label_df.columns)[1:])\n",
        "\n",
        "def label_generator(row):\n",
        "    return(' '.join(column_list[[True if i==1 else False for i in row[column_list]]]))\n",
        "\n",
        "label_df['label'] = label_df.progress_apply(lambda x: label_generator(x), axis=1)\n",
        "label_df = label_df.loc[:,['image_id','label']]\n",
        "label_df.to_csv('../data/celeba/labels.csv')"
      ],
      "execution_count": null,
      "outputs": []
    },
    {
      "cell_type": "code",
      "metadata": {
        "id": "CJXL3lquj3TX"
      },
      "source": [
        "## Attachhing label to correct file names\n",
        "item_list = glob.glob('../data/celeba/faces/*/*.jpg')\n",
        "item_df = pd.DataFrame({'image_name':pd.Series(item_list).apply(lambda x: '/'.join(x.split('/')[-2]))})\n",
        "item_df['image_id'] = item_df.image_name.apply(lambda x: x.split('/')[1])"
      ],
      "execution_count": null,
      "outputs": []
    },
    {
      "cell_type": "code",
      "metadata": {
        "id": "NQO1INc0j3TY"
      },
      "source": [
        "## Creating final label set\n",
        "label_df = pd.read_csv('../data/celeba/labels.csv')\n",
        "label_df = label_df.merge(item_df, on='image_id', how='inner')\n",
        "label_df.rename(columns={'label':'tags'}, inplace=True)\n",
        "label_df.loc[:,['image_name','tags']].to_csv('../data/celeba/faces/labels.csv', index=False)"
      ],
      "execution_count": null,
      "outputs": []
    }
  ]
}